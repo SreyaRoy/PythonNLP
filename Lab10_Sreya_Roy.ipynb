{
 "cells": [
  {
   "cell_type": "code",
   "execution_count": 5,
   "id": "2f355489-69a7-4215-9fc6-16595c1a26dd",
   "metadata": {},
   "outputs": [
    {
     "name": "stderr",
     "output_type": "stream",
     "text": [
      "[nltk_data] Downloading package punkt to /Users/sreyaroy/nltk_data...\n",
      "[nltk_data]   Package punkt is already up-to-date!\n",
      "[nltk_data] Downloading package wordnet to\n",
      "[nltk_data]     /Users/sreyaroy/nltk_data...\n",
      "[nltk_data]   Package wordnet is already up-to-date!\n"
     ]
    },
    {
     "name": "stdout",
     "output_type": "stream",
     "text": [
      "Accuracy: 0.775\n",
      "Precision: 0.785\n",
      "Recall: 0.833\n",
      "F1 Score: 0.809\n"
     ]
    }
   ],
   "source": [
    "#Group 11\n",
    "#Ariba S., Sreya R. and Melaany A.\n",
    "import nltk\n",
    "from nltk.tokenize import word_tokenize\n",
    "from nltk.stem import PorterStemmer\n",
    "from nltk.stem import WordNetLemmatizer\n",
    "from sklearn.feature_extraction.text import CountVectorizer\n",
    "from sklearn.ensemble import RandomForestClassifier\n",
    "from sklearn.model_selection import train_test_split\n",
    "from sklearn.metrics import accuracy_score, precision_score, recall_score, f1_score\n",
    "\n",
    "# download necessary NLTK packages\n",
    "nltk.download('punkt')\n",
    "nltk.download('wordnet')\n",
    "\n",
    "# read the dataset\n",
    "with open('musical1.tsv', 'r') as file:\n",
    "    dataset = file.read()\n",
    "\n",
    "# separate the reviews and scores\n",
    "reviews = []\n",
    "scores = []\n",
    "for line in dataset.split('\\n')[1:]:\n",
    "    if line:\n",
    "        review, score = line.split('\\t')\n",
    "        reviews.append(review.lower())\n",
    "        scores.append(int(score))\n",
    "\n",
    "# 1.tokenize the reviews\n",
    "tokenized_reviews = [word_tokenize(review) for review in reviews]\n",
    "\n",
    "# 2.perform stemming for the tokens of the reviews\n",
    "porter = PorterStemmer()\n",
    "stemmed_reviews = []\n",
    "for review in tokenized_reviews:\n",
    "    stemmed_review = [porter.stem(token) for token in review]\n",
    "    stemmed_reviews.append(stemmed_review)\n",
    "\n",
    "# 3.perform lemmatization for the stemmed tokens\n",
    "lemmatizer = WordNetLemmatizer()\n",
    "lemmatized_reviews = []\n",
    "for review in stemmed_reviews:\n",
    "    lemmatized_review = [lemmatizer.lemmatize(token) for token in review]\n",
    "    lemmatized_reviews.append(lemmatized_review)\n",
    "\n",
    "# convert the list of reviews to string\n",
    "corpus = [' '.join(review) for review in lemmatized_reviews]\n",
    "\n",
    "# extract features from the corpus using CountVectorizer\n",
    "vectorizer = CountVectorizer()\n",
    "X = vectorizer.fit_transform(corpus).toarray()\n",
    "\n",
    "# split the data into train and test sets\n",
    "X_train, X_test, y_train, y_test = train_test_split(X, scores, test_size=0.2, random_state=42)\n",
    "\n",
    "# 4. build the Random Forest classifier\n",
    "rfc = RandomForestClassifier(random_state=42)\n",
    "rfc.fit(X_train, y_train)\n",
    "\n",
    "# predict the scores for the test set\n",
    "y_pred = rfc.predict(X_test)\n",
    "\n",
    "# 5.evaluate the model\n",
    "accuracy = accuracy_score(y_test, y_pred)\n",
    "precision = precision_score(y_test, y_pred)\n",
    "recall = recall_score(y_test, y_pred)\n",
    "f1 = f1_score(y_test, y_pred)\n",
    "\n",
    "print(f\"Accuracy: {round(accuracy,3)}\")\n",
    "print(f\"Precision: {round(precision,3)}\")\n",
    "print(f\"Recall: {round(recall,3)}\")\n",
    "print(f\"F1 Score: {round(f1,3)}\")\n"
   ]
  },
  {
   "cell_type": "code",
   "execution_count": null,
   "id": "ed20463b-055a-4ea6-82de-c05daa6e0dbf",
   "metadata": {},
   "outputs": [],
   "source": []
  }
 ],
 "metadata": {
  "kernelspec": {
   "display_name": "Python 3 (ipykernel)",
   "language": "python",
   "name": "python3"
  },
  "language_info": {
   "codemirror_mode": {
    "name": "ipython",
    "version": 3
   },
   "file_extension": ".py",
   "mimetype": "text/x-python",
   "name": "python",
   "nbconvert_exporter": "python",
   "pygments_lexer": "ipython3",
   "version": "3.9.13"
  }
 },
 "nbformat": 4,
 "nbformat_minor": 5
}
